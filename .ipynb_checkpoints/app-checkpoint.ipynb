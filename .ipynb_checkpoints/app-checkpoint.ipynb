{
 "cells": [
  {
   "cell_type": "markdown",
   "id": "1d71893e",
   "metadata": {},
   "source": [
    "# Trabajo practico Nº4: Analisis de Estudiantes del IES21"
   ]
  },
  {
   "cell_type": "code",
   "execution_count": 10,
   "id": "c3ab4b10",
   "metadata": {},
   "outputs": [],
   "source": [
    "import pandas as pd \n",
    "import numpy as np \n",
    "import plotly.express as px"
   ]
  },
  {
   "cell_type": "code",
   "execution_count": 3,
   "id": "77d50c13",
   "metadata": {},
   "outputs": [
    {
     "data": {
      "text/html": [
       "<div>\n",
       "<style scoped>\n",
       "    .dataframe tbody tr th:only-of-type {\n",
       "        vertical-align: middle;\n",
       "    }\n",
       "\n",
       "    .dataframe tbody tr th {\n",
       "        vertical-align: top;\n",
       "    }\n",
       "\n",
       "    .dataframe thead th {\n",
       "        text-align: right;\n",
       "    }\n",
       "</style>\n",
       "<table border=\"1\" class=\"dataframe\">\n",
       "  <thead>\n",
       "    <tr style=\"text-align: right;\">\n",
       "      <th></th>\n",
       "      <th>Id_Alumno</th>\n",
       "      <th>Id_Carrera</th>\n",
       "      <th>Semestre_Ingreso</th>\n",
       "      <th>Año_Ingreso</th>\n",
       "      <th>Id_Ctro_Ext</th>\n",
       "      <th>Id_Modalidad</th>\n",
       "      <th>Fecha_Ingreso</th>\n",
       "      <th>Activo</th>\n",
       "      <th>Sexo</th>\n",
       "      <th>Fecha_Nac</th>\n",
       "    </tr>\n",
       "  </thead>\n",
       "  <tbody>\n",
       "    <tr>\n",
       "      <th>0</th>\n",
       "      <td>0x12DA11908B130262F20F714810A49680</td>\n",
       "      <td>6</td>\n",
       "      <td>2</td>\n",
       "      <td>2010</td>\n",
       "      <td>CO</td>\n",
       "      <td>P</td>\n",
       "      <td>2010-07-30 00:00:00</td>\n",
       "      <td>S</td>\n",
       "      <td>M</td>\n",
       "      <td>3/3/1991 00:00</td>\n",
       "    </tr>\n",
       "    <tr>\n",
       "      <th>1</th>\n",
       "      <td>0xFCDE4E2EACC469337D296ECE6B5083C6</td>\n",
       "      <td>17</td>\n",
       "      <td>1</td>\n",
       "      <td>2006</td>\n",
       "      <td>CO</td>\n",
       "      <td>P</td>\n",
       "      <td>2006-02-24 00:00:00</td>\n",
       "      <td>S</td>\n",
       "      <td>M</td>\n",
       "      <td>20/11/1954 00:00</td>\n",
       "    </tr>\n",
       "  </tbody>\n",
       "</table>\n",
       "</div>"
      ],
      "text/plain": [
       "                            Id_Alumno  Id_Carrera  Semestre_Ingreso  \\\n",
       "0  0x12DA11908B130262F20F714810A49680           6                 2   \n",
       "1  0xFCDE4E2EACC469337D296ECE6B5083C6          17                 1   \n",
       "\n",
       "   Año_Ingreso Id_Ctro_Ext Id_Modalidad        Fecha_Ingreso Activo Sexo  \\\n",
       "0         2010          CO            P  2010-07-30 00:00:00      S    M   \n",
       "1         2006          CO            P  2006-02-24 00:00:00      S    M   \n",
       "\n",
       "          Fecha_Nac  \n",
       "0    3/3/1991 00:00  \n",
       "1  20/11/1954 00:00  "
      ]
     },
     "execution_count": 3,
     "metadata": {},
     "output_type": "execute_result"
    }
   ],
   "source": [
    "df_alu_carrera = pd.read_csv(\"data/Alu_Carrera.csv\", sep = ';')\n",
    "df_alu_carrera.head(2)"
   ]
  },
  {
   "cell_type": "code",
   "execution_count": null,
   "id": "6d366c8e",
   "metadata": {},
   "outputs": [],
   "source": []
  },
  {
   "cell_type": "code",
   "execution_count": 4,
   "id": "4cf76024",
   "metadata": {},
   "outputs": [
    {
     "data": {
      "text/html": [
       "<div>\n",
       "<style scoped>\n",
       "    .dataframe tbody tr th:only-of-type {\n",
       "        vertical-align: middle;\n",
       "    }\n",
       "\n",
       "    .dataframe tbody tr th {\n",
       "        vertical-align: top;\n",
       "    }\n",
       "\n",
       "    .dataframe thead th {\n",
       "        text-align: right;\n",
       "    }\n",
       "</style>\n",
       "<table border=\"1\" class=\"dataframe\">\n",
       "  <thead>\n",
       "    <tr style=\"text-align: right;\">\n",
       "      <th></th>\n",
       "      <th>Id_Alumno</th>\n",
       "      <th>Id_Carrera</th>\n",
       "      <th>Id_Materia</th>\n",
       "      <th>Semestre</th>\n",
       "      <th>Año</th>\n",
       "      <th>Fecha_Inscrip</th>\n",
       "      <th>Ctro_Ext</th>\n",
       "      <th>Id_Modalidad</th>\n",
       "      <th>Id_Comision</th>\n",
       "      <th>Nota_1p</th>\n",
       "      <th>Fecha_1p</th>\n",
       "      <th>Nota_2p</th>\n",
       "      <th>Fecha_2p</th>\n",
       "      <th>Nota_TP</th>\n",
       "      <th>Fecha_TP</th>\n",
       "      <th>Nota_Recup</th>\n",
       "      <th>Fecha_Recup</th>\n",
       "      <th>Cuatrimestre</th>\n",
       "    </tr>\n",
       "  </thead>\n",
       "  <tbody>\n",
       "    <tr>\n",
       "      <th>0</th>\n",
       "      <td>0x003014EF4D7D79987F42DE8E3080AEFE</td>\n",
       "      <td>6</td>\n",
       "      <td>115</td>\n",
       "      <td>2</td>\n",
       "      <td>2006</td>\n",
       "      <td>2006-08-16 15:02:00</td>\n",
       "      <td>CO</td>\n",
       "      <td>P</td>\n",
       "      <td>7</td>\n",
       "      <td>11.0</td>\n",
       "      <td>2006-10-02 00:00:00</td>\n",
       "      <td>11.0</td>\n",
       "      <td>2006-11-20 00:00:00</td>\n",
       "      <td>11.0</td>\n",
       "      <td>2006-11-29 00:00:00</td>\n",
       "      <td>11.0</td>\n",
       "      <td>2006-11-27 00:00:00</td>\n",
       "      <td>4</td>\n",
       "    </tr>\n",
       "    <tr>\n",
       "      <th>1</th>\n",
       "      <td>0x003014EF4D7D79987F42DE8E3080AEFE</td>\n",
       "      <td>6</td>\n",
       "      <td>121</td>\n",
       "      <td>1</td>\n",
       "      <td>2005</td>\n",
       "      <td>2005-03-10 18:12:00</td>\n",
       "      <td>CO</td>\n",
       "      <td>P</td>\n",
       "      <td>7</td>\n",
       "      <td>11.0</td>\n",
       "      <td>2005-05-04 00:00:00</td>\n",
       "      <td>11.0</td>\n",
       "      <td>2005-06-22 00:00:00</td>\n",
       "      <td>10.0</td>\n",
       "      <td>2005-12-05 15:44:00</td>\n",
       "      <td>11.0</td>\n",
       "      <td>2005-06-28 00:00:00</td>\n",
       "      <td>2</td>\n",
       "    </tr>\n",
       "  </tbody>\n",
       "</table>\n",
       "</div>"
      ],
      "text/plain": [
       "                            Id_Alumno  Id_Carrera  Id_Materia  Semestre   Año  \\\n",
       "0  0x003014EF4D7D79987F42DE8E3080AEFE           6         115         2  2006   \n",
       "1  0x003014EF4D7D79987F42DE8E3080AEFE           6         121         1  2005   \n",
       "\n",
       "         Fecha_Inscrip Ctro_Ext Id_Modalidad  Id_Comision  Nota_1p  \\\n",
       "0  2006-08-16 15:02:00       CO            P            7     11.0   \n",
       "1  2005-03-10 18:12:00       CO            P            7     11.0   \n",
       "\n",
       "              Fecha_1p  Nota_2p             Fecha_2p  Nota_TP  \\\n",
       "0  2006-10-02 00:00:00     11.0  2006-11-20 00:00:00     11.0   \n",
       "1  2005-05-04 00:00:00     11.0  2005-06-22 00:00:00     10.0   \n",
       "\n",
       "              Fecha_TP  Nota_Recup          Fecha_Recup  Cuatrimestre  \n",
       "0  2006-11-29 00:00:00        11.0  2006-11-27 00:00:00             4  \n",
       "1  2005-12-05 15:44:00        11.0  2005-06-28 00:00:00             2  "
      ]
     },
     "execution_count": 4,
     "metadata": {},
     "output_type": "execute_result"
    }
   ],
   "source": [
    "df_Alu_Materia = pd.read_csv(\"data/Alu_Materia.csv\", sep = ';')\n",
    "df_Alu_Materia.head(2)"
   ]
  },
  {
   "cell_type": "code",
   "execution_count": 5,
   "id": "679d1b10",
   "metadata": {},
   "outputs": [
    {
     "data": {
      "text/html": [
       "<div>\n",
       "<style scoped>\n",
       "    .dataframe tbody tr th:only-of-type {\n",
       "        vertical-align: middle;\n",
       "    }\n",
       "\n",
       "    .dataframe tbody tr th {\n",
       "        vertical-align: top;\n",
       "    }\n",
       "\n",
       "    .dataframe thead th {\n",
       "        text-align: right;\n",
       "    }\n",
       "</style>\n",
       "<table border=\"1\" class=\"dataframe\">\n",
       "  <thead>\n",
       "    <tr style=\"text-align: right;\">\n",
       "      <th></th>\n",
       "      <th>Id_Alumno</th>\n",
       "      <th>Id_Carrera</th>\n",
       "      <th>Id_Materia</th>\n",
       "      <th>Semetre_Cursada</th>\n",
       "      <th>Año_Cursada</th>\n",
       "      <th>Fecha_Examen</th>\n",
       "      <th>Nota</th>\n",
       "      <th>Fecha_Inscrip_Examen</th>\n",
       "    </tr>\n",
       "  </thead>\n",
       "  <tbody>\n",
       "    <tr>\n",
       "      <th>0</th>\n",
       "      <td>0xD2B32B6CE5A79C6AF97CACC9E4BAE8A4</td>\n",
       "      <td>2</td>\n",
       "      <td>68</td>\n",
       "      <td>1</td>\n",
       "      <td>2001</td>\n",
       "      <td>2001-07-27 00:00:00.000</td>\n",
       "      <td>9.0</td>\n",
       "      <td>NaN</td>\n",
       "    </tr>\n",
       "    <tr>\n",
       "      <th>1</th>\n",
       "      <td>0xD2B32B6CE5A79C6AF97CACC9E4BAE8A4</td>\n",
       "      <td>2</td>\n",
       "      <td>69</td>\n",
       "      <td>1</td>\n",
       "      <td>2001</td>\n",
       "      <td>2001-07-24 00:00:00.000</td>\n",
       "      <td>10.0</td>\n",
       "      <td>NaN</td>\n",
       "    </tr>\n",
       "  </tbody>\n",
       "</table>\n",
       "</div>"
      ],
      "text/plain": [
       "                            Id_Alumno  Id_Carrera  Id_Materia  \\\n",
       "0  0xD2B32B6CE5A79C6AF97CACC9E4BAE8A4           2          68   \n",
       "1  0xD2B32B6CE5A79C6AF97CACC9E4BAE8A4           2          69   \n",
       "\n",
       "   Semetre_Cursada  Año_Cursada             Fecha_Examen  Nota  \\\n",
       "0                1         2001  2001-07-27 00:00:00.000   9.0   \n",
       "1                1         2001  2001-07-24 00:00:00.000  10.0   \n",
       "\n",
       "  Fecha_Inscrip_Examen  \n",
       "0                  NaN  \n",
       "1                  NaN  "
      ]
     },
     "execution_count": 5,
     "metadata": {},
     "output_type": "execute_result"
    }
   ],
   "source": [
    "df_finales = pd.read_csv(\"data/Finales.csv\", sep=';')\n",
    "df_finales.head(2)"
   ]
  },
  {
   "cell_type": "code",
   "execution_count": 6,
   "id": "942c3946",
   "metadata": {},
   "outputs": [
    {
     "data": {
      "text/html": [
       "<div>\n",
       "<style scoped>\n",
       "    .dataframe tbody tr th:only-of-type {\n",
       "        vertical-align: middle;\n",
       "    }\n",
       "\n",
       "    .dataframe tbody tr th {\n",
       "        vertical-align: top;\n",
       "    }\n",
       "\n",
       "    .dataframe thead th {\n",
       "        text-align: right;\n",
       "    }\n",
       "</style>\n",
       "<table border=\"1\" class=\"dataframe\">\n",
       "  <thead>\n",
       "    <tr style=\"text-align: right;\">\n",
       "      <th></th>\n",
       "      <th>Id_Carrera</th>\n",
       "      <th>Nombre_Largo</th>\n",
       "      <th>Nombre_Corto</th>\n",
       "      <th>Abreviatura</th>\n",
       "      <th>Cuatrimestres</th>\n",
       "    </tr>\n",
       "  </thead>\n",
       "  <tbody>\n",
       "    <tr>\n",
       "      <th>0</th>\n",
       "      <td>9</td>\n",
       "      <td>TECNICO SUPERIOR EN ADMINISTRACION AGROPECUARIA</td>\n",
       "      <td>AGRONEGOCIOS</td>\n",
       "      <td>AA</td>\n",
       "      <td>6</td>\n",
       "    </tr>\n",
       "    <tr>\n",
       "      <th>1</th>\n",
       "      <td>3</td>\n",
       "      <td>TECNICO SUPERIOR EN PUBLICIDAD</td>\n",
       "      <td>PUBLICIDAD</td>\n",
       "      <td>PUB</td>\n",
       "      <td>6</td>\n",
       "    </tr>\n",
       "    <tr>\n",
       "      <th>2</th>\n",
       "      <td>12</td>\n",
       "      <td>ANALISTA EN GESTION DE VENTAS</td>\n",
       "      <td>VENTAS</td>\n",
       "      <td>VTA</td>\n",
       "      <td>4</td>\n",
       "    </tr>\n",
       "    <tr>\n",
       "      <th>3</th>\n",
       "      <td>6</td>\n",
       "      <td>TECNICO SUPERIOR EN RELACIONES PUBLICAS E INST...</td>\n",
       "      <td>RELACIONES PÚBLICAS</td>\n",
       "      <td>RRPP</td>\n",
       "      <td>6</td>\n",
       "    </tr>\n",
       "    <tr>\n",
       "      <th>4</th>\n",
       "      <td>7</td>\n",
       "      <td>ADMINISTRADOR DE RECURSOS HUMANOS</td>\n",
       "      <td>RECURSOS HUMANOS</td>\n",
       "      <td>RRHH</td>\n",
       "      <td>6</td>\n",
       "    </tr>\n",
       "    <tr>\n",
       "      <th>5</th>\n",
       "      <td>1</td>\n",
       "      <td>ANALISTA DE SISTEMAS DE COMPUTACION</td>\n",
       "      <td>ANALISTA DE SISTEMAS</td>\n",
       "      <td>INF</td>\n",
       "      <td>6</td>\n",
       "    </tr>\n",
       "    <tr>\n",
       "      <th>6</th>\n",
       "      <td>18</td>\n",
       "      <td>TECNICO SUPERIOR EN LOGISTICA</td>\n",
       "      <td>LOGÍSTICA</td>\n",
       "      <td>LOG</td>\n",
       "      <td>6</td>\n",
       "    </tr>\n",
       "    <tr>\n",
       "      <th>7</th>\n",
       "      <td>10</td>\n",
       "      <td>TECNICO SUPERIOR EN TURISMO</td>\n",
       "      <td>TURISMO</td>\n",
       "      <td>TUR</td>\n",
       "      <td>6</td>\n",
       "    </tr>\n",
       "    <tr>\n",
       "      <th>8</th>\n",
       "      <td>41</td>\n",
       "      <td>AGENTE DE TRANSPORTE ADUANERO Y DESPACHANTE DE...</td>\n",
       "      <td>AGENTE DE TRANSP. ADUANERO Y DESP. DE ADUANA</td>\n",
       "      <td>ATA</td>\n",
       "      <td>4</td>\n",
       "    </tr>\n",
       "    <tr>\n",
       "      <th>9</th>\n",
       "      <td>4</td>\n",
       "      <td>TECNICO SUPERIOR EN ADMINISTRACION DE EMPRESAS</td>\n",
       "      <td>ADMINISTRACIÓN DE EMPRESAS</td>\n",
       "      <td>ADMIN</td>\n",
       "      <td>6</td>\n",
       "    </tr>\n",
       "    <tr>\n",
       "      <th>10</th>\n",
       "      <td>13</td>\n",
       "      <td>TECNICO SUPERIOR EN MULTIMEDIOS</td>\n",
       "      <td>MULTIMEDIOS</td>\n",
       "      <td>MM</td>\n",
       "      <td>6</td>\n",
       "    </tr>\n",
       "    <tr>\n",
       "      <th>11</th>\n",
       "      <td>5</td>\n",
       "      <td>DISEÑO GRAFICO Y PUBLICITARIO</td>\n",
       "      <td>DISEÑO GRÁFICO</td>\n",
       "      <td>DG</td>\n",
       "      <td>6</td>\n",
       "    </tr>\n",
       "    <tr>\n",
       "      <th>12</th>\n",
       "      <td>59</td>\n",
       "      <td>TÉCNICO SUPERIOR EN SERVICIOS DE PAISAJISMO</td>\n",
       "      <td>SERVICIOS DE PAISAJISMO</td>\n",
       "      <td>SERPAI</td>\n",
       "      <td>2</td>\n",
       "    </tr>\n",
       "    <tr>\n",
       "      <th>13</th>\n",
       "      <td>39</td>\n",
       "      <td>ADMINISTRADOR DE REDES</td>\n",
       "      <td>ADMINISTRADOR DE REDES</td>\n",
       "      <td>AR</td>\n",
       "      <td>4</td>\n",
       "    </tr>\n",
       "    <tr>\n",
       "      <th>14</th>\n",
       "      <td>16</td>\n",
       "      <td>TECNICO SUPERIOR EN GESTION JURIDICA</td>\n",
       "      <td>GESTIÓN JURíDICA</td>\n",
       "      <td>GJ</td>\n",
       "      <td>6</td>\n",
       "    </tr>\n",
       "    <tr>\n",
       "      <th>15</th>\n",
       "      <td>2</td>\n",
       "      <td>ANAL.DE MERC.Y ESTRAT. DE COMERCIALIZACION</td>\n",
       "      <td>MARKETING</td>\n",
       "      <td>MKT</td>\n",
       "      <td>6</td>\n",
       "    </tr>\n",
       "    <tr>\n",
       "      <th>16</th>\n",
       "      <td>17</td>\n",
       "      <td>TECNICO SUPERIOR EN GESTION CONTABLE Y FINANCIERA</td>\n",
       "      <td>GESTIÓN CONTABLE Y FINANCIERA</td>\n",
       "      <td>GCF</td>\n",
       "      <td>6</td>\n",
       "    </tr>\n",
       "    <tr>\n",
       "      <th>17</th>\n",
       "      <td>60</td>\n",
       "      <td>TÉC. SUP. EN DES. DE SIMULACIONES VIRTUALES Y ...</td>\n",
       "      <td>VIDEOJUEGOS</td>\n",
       "      <td>SVIRT</td>\n",
       "      <td>6</td>\n",
       "    </tr>\n",
       "    <tr>\n",
       "      <th>18</th>\n",
       "      <td>40</td>\n",
       "      <td>TÉCNICO EN SERVICIOS AGROPECUARIOS</td>\n",
       "      <td>TÉCNICO EN SERVICIOS AGROPECUARIOS</td>\n",
       "      <td>TSAGR</td>\n",
       "      <td>4</td>\n",
       "    </tr>\n",
       "    <tr>\n",
       "      <th>19</th>\n",
       "      <td>11</td>\n",
       "      <td>ASISTENTE GERENCIAL TRILINGÜE</td>\n",
       "      <td>TRILINGÜE</td>\n",
       "      <td>TRI</td>\n",
       "      <td>4</td>\n",
       "    </tr>\n",
       "    <tr>\n",
       "      <th>20</th>\n",
       "      <td>14</td>\n",
       "      <td>TECNICATURA SUPERIOR EN GESTION AMBIENTAL</td>\n",
       "      <td>GESTIÓN AMBIENTAL</td>\n",
       "      <td>GA</td>\n",
       "      <td>6</td>\n",
       "    </tr>\n",
       "    <tr>\n",
       "      <th>21</th>\n",
       "      <td>8</td>\n",
       "      <td>ANALISTA EN COMERCIO INTERNACIONAL</td>\n",
       "      <td>COMERCIO INTERNACIONAL</td>\n",
       "      <td>CI</td>\n",
       "      <td>6</td>\n",
       "    </tr>\n",
       "  </tbody>\n",
       "</table>\n",
       "</div>"
      ],
      "text/plain": [
       "    Id_Carrera                                       Nombre_Largo  \\\n",
       "0            9    TECNICO SUPERIOR EN ADMINISTRACION AGROPECUARIA   \n",
       "1            3                     TECNICO SUPERIOR EN PUBLICIDAD   \n",
       "2           12                      ANALISTA EN GESTION DE VENTAS   \n",
       "3            6  TECNICO SUPERIOR EN RELACIONES PUBLICAS E INST...   \n",
       "4            7                  ADMINISTRADOR DE RECURSOS HUMANOS   \n",
       "5            1                ANALISTA DE SISTEMAS DE COMPUTACION   \n",
       "6           18                      TECNICO SUPERIOR EN LOGISTICA   \n",
       "7           10                        TECNICO SUPERIOR EN TURISMO   \n",
       "8           41  AGENTE DE TRANSPORTE ADUANERO Y DESPACHANTE DE...   \n",
       "9            4     TECNICO SUPERIOR EN ADMINISTRACION DE EMPRESAS   \n",
       "10          13                    TECNICO SUPERIOR EN MULTIMEDIOS   \n",
       "11           5                      DISEÑO GRAFICO Y PUBLICITARIO   \n",
       "12          59        TÉCNICO SUPERIOR EN SERVICIOS DE PAISAJISMO   \n",
       "13          39                             ADMINISTRADOR DE REDES   \n",
       "14          16               TECNICO SUPERIOR EN GESTION JURIDICA   \n",
       "15           2         ANAL.DE MERC.Y ESTRAT. DE COMERCIALIZACION   \n",
       "16          17  TECNICO SUPERIOR EN GESTION CONTABLE Y FINANCIERA   \n",
       "17          60  TÉC. SUP. EN DES. DE SIMULACIONES VIRTUALES Y ...   \n",
       "18          40                 TÉCNICO EN SERVICIOS AGROPECUARIOS   \n",
       "19          11                      ASISTENTE GERENCIAL TRILINGÜE   \n",
       "20          14          TECNICATURA SUPERIOR EN GESTION AMBIENTAL   \n",
       "21           8                 ANALISTA EN COMERCIO INTERNACIONAL   \n",
       "\n",
       "                                    Nombre_Corto Abreviatura  Cuatrimestres  \n",
       "0                                   AGRONEGOCIOS          AA              6  \n",
       "1                                     PUBLICIDAD         PUB              6  \n",
       "2                                         VENTAS         VTA              4  \n",
       "3                            RELACIONES PÚBLICAS        RRPP              6  \n",
       "4                               RECURSOS HUMANOS        RRHH              6  \n",
       "5                           ANALISTA DE SISTEMAS         INF              6  \n",
       "6                                      LOGÍSTICA         LOG              6  \n",
       "7                                        TURISMO         TUR              6  \n",
       "8   AGENTE DE TRANSP. ADUANERO Y DESP. DE ADUANA         ATA              4  \n",
       "9                     ADMINISTRACIÓN DE EMPRESAS       ADMIN              6  \n",
       "10                                   MULTIMEDIOS          MM              6  \n",
       "11                                DISEÑO GRÁFICO          DG              6  \n",
       "12                       SERVICIOS DE PAISAJISMO      SERPAI              2  \n",
       "13                        ADMINISTRADOR DE REDES          AR              4  \n",
       "14                              GESTIÓN JURíDICA          GJ              6  \n",
       "15                                     MARKETING         MKT              6  \n",
       "16                 GESTIÓN CONTABLE Y FINANCIERA         GCF              6  \n",
       "17                                   VIDEOJUEGOS       SVIRT              6  \n",
       "18            TÉCNICO EN SERVICIOS AGROPECUARIOS       TSAGR              4  \n",
       "19                                     TRILINGÜE         TRI              4  \n",
       "20                             GESTIÓN AMBIENTAL          GA              6  \n",
       "21                        COMERCIO INTERNACIONAL          CI              6  "
      ]
     },
     "execution_count": 6,
     "metadata": {},
     "output_type": "execute_result"
    }
   ],
   "source": [
    "df_carreras = pd.read_csv(\"data/Carreras.csv\",sep=';')\n",
    "df_carreras"
   ]
  },
  {
   "cell_type": "code",
   "execution_count": 7,
   "id": "73bebf7b",
   "metadata": {},
   "outputs": [],
   "source": [
    "#Ordene el df Carreras por idcarrera para saber el orden de creaccion de las mismas. \n",
    "df_carreras_ordenado = df_carreras.sort_values('Id_Carrera')\n",
    "#df_carreras_ordenado"
   ]
  },
  {
   "cell_type": "code",
   "execution_count": 7,
   "id": "b23bbe54",
   "metadata": {},
   "outputs": [
    {
     "data": {
      "text/html": [
       "<div>\n",
       "<style scoped>\n",
       "    .dataframe tbody tr th:only-of-type {\n",
       "        vertical-align: middle;\n",
       "    }\n",
       "\n",
       "    .dataframe tbody tr th {\n",
       "        vertical-align: top;\n",
       "    }\n",
       "\n",
       "    .dataframe thead th {\n",
       "        text-align: right;\n",
       "    }\n",
       "</style>\n",
       "<table border=\"1\" class=\"dataframe\">\n",
       "  <thead>\n",
       "    <tr style=\"text-align: right;\">\n",
       "      <th></th>\n",
       "      <th>Id_Materia</th>\n",
       "      <th>Nombre</th>\n",
       "    </tr>\n",
       "  </thead>\n",
       "  <tbody>\n",
       "    <tr>\n",
       "      <th>0</th>\n",
       "      <td>2</td>\n",
       "      <td>HISTORIA DEL DISEÑO</td>\n",
       "    </tr>\n",
       "    <tr>\n",
       "      <th>1</th>\n",
       "      <td>3</td>\n",
       "      <td>INTRODUCCIÓN A LA PUBLICIDAD</td>\n",
       "    </tr>\n",
       "    <tr>\n",
       "      <th>2</th>\n",
       "      <td>4</td>\n",
       "      <td>ELEMENTOS DE DISEÑO I</td>\n",
       "    </tr>\n",
       "    <tr>\n",
       "      <th>3</th>\n",
       "      <td>5</td>\n",
       "      <td>DISEÑO Y COMUNICACIÓN</td>\n",
       "    </tr>\n",
       "    <tr>\n",
       "      <th>4</th>\n",
       "      <td>6</td>\n",
       "      <td>DISEÑOMÁTICA I</td>\n",
       "    </tr>\n",
       "    <tr>\n",
       "      <th>...</th>\n",
       "      <td>...</td>\n",
       "      <td>...</td>\n",
       "    </tr>\n",
       "    <tr>\n",
       "      <th>800</th>\n",
       "      <td>833</td>\n",
       "      <td>ELEGIR-TE:  TALLER DE ORIENTACIÓN VOCACIONAL</td>\n",
       "    </tr>\n",
       "    <tr>\n",
       "      <th>801</th>\n",
       "      <td>834</td>\n",
       "      <td>EXCEL INTERMEDIO</td>\n",
       "    </tr>\n",
       "    <tr>\n",
       "      <th>802</th>\n",
       "      <td>835</td>\n",
       "      <td>DESARROLLO DE “SOFT SKILLS</td>\n",
       "    </tr>\n",
       "    <tr>\n",
       "      <th>803</th>\n",
       "      <td>836</td>\n",
       "      <td>Introducción al modelado 3D en 3Ds Max</td>\n",
       "    </tr>\n",
       "    <tr>\n",
       "      <th>804</th>\n",
       "      <td>837</td>\n",
       "      <td>COMPETENCIAS DIGITALES PARA PROFESIONALES</td>\n",
       "    </tr>\n",
       "  </tbody>\n",
       "</table>\n",
       "<p>805 rows × 2 columns</p>\n",
       "</div>"
      ],
      "text/plain": [
       "     Id_Materia                                        Nombre\n",
       "0             2                           HISTORIA DEL DISEÑO\n",
       "1             3                  INTRODUCCIÓN A LA PUBLICIDAD\n",
       "2             4                         ELEMENTOS DE DISEÑO I\n",
       "3             5                         DISEÑO Y COMUNICACIÓN\n",
       "4             6                                DISEÑOMÁTICA I\n",
       "..          ...                                           ...\n",
       "800         833  ELEGIR-TE:  TALLER DE ORIENTACIÓN VOCACIONAL\n",
       "801         834                              EXCEL INTERMEDIO\n",
       "802         835                    DESARROLLO DE “SOFT SKILLS\n",
       "803         836        Introducción al modelado 3D en 3Ds Max\n",
       "804         837     COMPETENCIAS DIGITALES PARA PROFESIONALES\n",
       "\n",
       "[805 rows x 2 columns]"
      ]
     },
     "execution_count": 7,
     "metadata": {},
     "output_type": "execute_result"
    }
   ],
   "source": [
    "df_Materias = pd.read_csv(\"data/Materias.csv\",sep=';')\n",
    "df_Materias"
   ]
  },
  {
   "cell_type": "code",
   "execution_count": 24,
   "id": "ddd93c0c",
   "metadata": {},
   "outputs": [
    {
     "data": {
      "text/html": [
       "<div>\n",
       "<style scoped>\n",
       "    .dataframe tbody tr th:only-of-type {\n",
       "        vertical-align: middle;\n",
       "    }\n",
       "\n",
       "    .dataframe tbody tr th {\n",
       "        vertical-align: top;\n",
       "    }\n",
       "\n",
       "    .dataframe thead th {\n",
       "        text-align: right;\n",
       "    }\n",
       "</style>\n",
       "<table border=\"1\" class=\"dataframe\">\n",
       "  <thead>\n",
       "    <tr style=\"text-align: right;\">\n",
       "      <th></th>\n",
       "      <th>Id_Alumno</th>\n",
       "      <th>Id_Carrera</th>\n",
       "      <th>Semestre_Ingreso</th>\n",
       "      <th>Año_Ingreso</th>\n",
       "      <th>Id_Ctro_Ext</th>\n",
       "      <th>Id_Modalidad_x</th>\n",
       "      <th>Fecha_Ingreso</th>\n",
       "      <th>Activo</th>\n",
       "      <th>Sexo</th>\n",
       "      <th>Fecha_Nac</th>\n",
       "      <th>...</th>\n",
       "      <th>Id_Comision</th>\n",
       "      <th>Nota_1p</th>\n",
       "      <th>Fecha_1p</th>\n",
       "      <th>Nota_2p</th>\n",
       "      <th>Fecha_2p</th>\n",
       "      <th>Nota_TP</th>\n",
       "      <th>Fecha_TP</th>\n",
       "      <th>Nota_Recup</th>\n",
       "      <th>Fecha_Recup</th>\n",
       "      <th>Cuatrimestre</th>\n",
       "    </tr>\n",
       "  </thead>\n",
       "  <tbody>\n",
       "    <tr>\n",
       "      <th>0</th>\n",
       "      <td>0x12DA11908B130262F20F714810A49680</td>\n",
       "      <td>6</td>\n",
       "      <td>2</td>\n",
       "      <td>2010</td>\n",
       "      <td>CO</td>\n",
       "      <td>P</td>\n",
       "      <td>2010-07-30 00:00:00</td>\n",
       "      <td>S</td>\n",
       "      <td>M</td>\n",
       "      <td>3/3/1991 00:00</td>\n",
       "      <td>...</td>\n",
       "      <td>7</td>\n",
       "      <td>11.0</td>\n",
       "      <td>2010-10-07 00:00:00</td>\n",
       "      <td>11.0</td>\n",
       "      <td>2010-11-10 00:00:00</td>\n",
       "      <td>5.0</td>\n",
       "      <td>2010-10-29 00:00:00</td>\n",
       "      <td>11.0</td>\n",
       "      <td>2010-11-16 00:00:00</td>\n",
       "      <td>1</td>\n",
       "    </tr>\n",
       "    <tr>\n",
       "      <th>1</th>\n",
       "      <td>0x12DA11908B130262F20F714810A49680</td>\n",
       "      <td>6</td>\n",
       "      <td>2</td>\n",
       "      <td>2010</td>\n",
       "      <td>CO</td>\n",
       "      <td>P</td>\n",
       "      <td>2010-07-30 00:00:00</td>\n",
       "      <td>S</td>\n",
       "      <td>M</td>\n",
       "      <td>3/3/1991 00:00</td>\n",
       "      <td>...</td>\n",
       "      <td>7</td>\n",
       "      <td>5.0</td>\n",
       "      <td>2010-09-29 00:00:00</td>\n",
       "      <td>11.0</td>\n",
       "      <td>2010-11-16 00:00:00</td>\n",
       "      <td>6.0</td>\n",
       "      <td>2010-11-15 00:00:00</td>\n",
       "      <td>11.0</td>\n",
       "      <td>2010-11-26 00:00:00</td>\n",
       "      <td>1</td>\n",
       "    </tr>\n",
       "    <tr>\n",
       "      <th>2</th>\n",
       "      <td>0x12DA11908B130262F20F714810A49680</td>\n",
       "      <td>6</td>\n",
       "      <td>2</td>\n",
       "      <td>2010</td>\n",
       "      <td>CO</td>\n",
       "      <td>P</td>\n",
       "      <td>2010-07-30 00:00:00</td>\n",
       "      <td>S</td>\n",
       "      <td>M</td>\n",
       "      <td>3/3/1991 00:00</td>\n",
       "      <td>...</td>\n",
       "      <td>7</td>\n",
       "      <td>7.0</td>\n",
       "      <td>2010-10-07 00:00:00</td>\n",
       "      <td>5.0</td>\n",
       "      <td>2010-11-04 00:00:00</td>\n",
       "      <td>3.0</td>\n",
       "      <td>2010-11-18 00:00:00</td>\n",
       "      <td>NaN</td>\n",
       "      <td>NaN</td>\n",
       "      <td>1</td>\n",
       "    </tr>\n",
       "    <tr>\n",
       "      <th>3</th>\n",
       "      <td>0x12DA11908B130262F20F714810A49680</td>\n",
       "      <td>6</td>\n",
       "      <td>2</td>\n",
       "      <td>2010</td>\n",
       "      <td>CO</td>\n",
       "      <td>P</td>\n",
       "      <td>2010-07-30 00:00:00</td>\n",
       "      <td>S</td>\n",
       "      <td>M</td>\n",
       "      <td>3/3/1991 00:00</td>\n",
       "      <td>...</td>\n",
       "      <td>7</td>\n",
       "      <td>1.0</td>\n",
       "      <td>2010-09-28 00:00:00</td>\n",
       "      <td>6.0</td>\n",
       "      <td>2010-11-02 00:00:00</td>\n",
       "      <td>6.0</td>\n",
       "      <td>2010-11-16 00:00:00</td>\n",
       "      <td>3.0</td>\n",
       "      <td>2010-11-16 00:00:00</td>\n",
       "      <td>1</td>\n",
       "    </tr>\n",
       "    <tr>\n",
       "      <th>4</th>\n",
       "      <td>0xFCDE4E2EACC469337D296ECE6B5083C6</td>\n",
       "      <td>17</td>\n",
       "      <td>1</td>\n",
       "      <td>2006</td>\n",
       "      <td>CO</td>\n",
       "      <td>P</td>\n",
       "      <td>2006-02-24 00:00:00</td>\n",
       "      <td>S</td>\n",
       "      <td>M</td>\n",
       "      <td>20/11/1954 00:00</td>\n",
       "      <td>...</td>\n",
       "      <td>7</td>\n",
       "      <td>7.0</td>\n",
       "      <td>2008-09-09 00:00:00</td>\n",
       "      <td>NaN</td>\n",
       "      <td>NaN</td>\n",
       "      <td>9.0</td>\n",
       "      <td>2008-10-08 00:00:00</td>\n",
       "      <td>NaN</td>\n",
       "      <td>NaN</td>\n",
       "      <td>2</td>\n",
       "    </tr>\n",
       "    <tr>\n",
       "      <th>...</th>\n",
       "      <td>...</td>\n",
       "      <td>...</td>\n",
       "      <td>...</td>\n",
       "      <td>...</td>\n",
       "      <td>...</td>\n",
       "      <td>...</td>\n",
       "      <td>...</td>\n",
       "      <td>...</td>\n",
       "      <td>...</td>\n",
       "      <td>...</td>\n",
       "      <td>...</td>\n",
       "      <td>...</td>\n",
       "      <td>...</td>\n",
       "      <td>...</td>\n",
       "      <td>...</td>\n",
       "      <td>...</td>\n",
       "      <td>...</td>\n",
       "      <td>...</td>\n",
       "      <td>...</td>\n",
       "      <td>...</td>\n",
       "      <td>...</td>\n",
       "    </tr>\n",
       "    <tr>\n",
       "      <th>136400</th>\n",
       "      <td>0x24C9300567A882456A355E68B2980753</td>\n",
       "      <td>5</td>\n",
       "      <td>1</td>\n",
       "      <td>2001</td>\n",
       "      <td>CO</td>\n",
       "      <td>P</td>\n",
       "      <td>2001-03-06 00:00:00</td>\n",
       "      <td>S</td>\n",
       "      <td>F</td>\n",
       "      <td>25/10/1979 00:00</td>\n",
       "      <td>...</td>\n",
       "      <td>1</td>\n",
       "      <td>11.0</td>\n",
       "      <td>2003-09-29 00:00:00</td>\n",
       "      <td>8.0</td>\n",
       "      <td>2003-11-17 00:00:00</td>\n",
       "      <td>10.0</td>\n",
       "      <td>2005-12-05 15:44:00</td>\n",
       "      <td>2.0</td>\n",
       "      <td>2003-11-24 00:00:00</td>\n",
       "      <td>6</td>\n",
       "    </tr>\n",
       "    <tr>\n",
       "      <th>136401</th>\n",
       "      <td>0x24C9300567A882456A355E68B2980753</td>\n",
       "      <td>5</td>\n",
       "      <td>1</td>\n",
       "      <td>2001</td>\n",
       "      <td>CO</td>\n",
       "      <td>P</td>\n",
       "      <td>2001-03-06 00:00:00</td>\n",
       "      <td>S</td>\n",
       "      <td>F</td>\n",
       "      <td>25/10/1979 00:00</td>\n",
       "      <td>...</td>\n",
       "      <td>7</td>\n",
       "      <td>10.0</td>\n",
       "      <td>2003-05-05 00:00:00</td>\n",
       "      <td>2.0</td>\n",
       "      <td>2003-06-25 00:00:00</td>\n",
       "      <td>10.0</td>\n",
       "      <td>2005-12-05 15:44:00</td>\n",
       "      <td>2.0</td>\n",
       "      <td>2003-06-30 00:00:00</td>\n",
       "      <td>4</td>\n",
       "    </tr>\n",
       "    <tr>\n",
       "      <th>136402</th>\n",
       "      <td>0x24C9300567A882456A355E68B2980753</td>\n",
       "      <td>5</td>\n",
       "      <td>1</td>\n",
       "      <td>2001</td>\n",
       "      <td>CO</td>\n",
       "      <td>P</td>\n",
       "      <td>2001-03-06 00:00:00</td>\n",
       "      <td>S</td>\n",
       "      <td>F</td>\n",
       "      <td>25/10/1979 00:00</td>\n",
       "      <td>...</td>\n",
       "      <td>7</td>\n",
       "      <td>6.0</td>\n",
       "      <td>2003-10-06 00:00:00</td>\n",
       "      <td>4.0</td>\n",
       "      <td>2003-11-17 00:00:00</td>\n",
       "      <td>10.0</td>\n",
       "      <td>2005-12-05 15:44:00</td>\n",
       "      <td>8.0</td>\n",
       "      <td>2003-11-26 00:00:00</td>\n",
       "      <td>4</td>\n",
       "    </tr>\n",
       "    <tr>\n",
       "      <th>136403</th>\n",
       "      <td>0x24C9300567A882456A355E68B2980753</td>\n",
       "      <td>5</td>\n",
       "      <td>1</td>\n",
       "      <td>2001</td>\n",
       "      <td>CO</td>\n",
       "      <td>P</td>\n",
       "      <td>2001-03-06 00:00:00</td>\n",
       "      <td>S</td>\n",
       "      <td>F</td>\n",
       "      <td>25/10/1979 00:00</td>\n",
       "      <td>...</td>\n",
       "      <td>1</td>\n",
       "      <td>7.0</td>\n",
       "      <td>2001-05-03 00:00:00</td>\n",
       "      <td>7.0</td>\n",
       "      <td>2001-06-26 00:00:00</td>\n",
       "      <td>10.0</td>\n",
       "      <td>2005-12-05 15:44:00</td>\n",
       "      <td>NaN</td>\n",
       "      <td>NaN</td>\n",
       "      <td>1</td>\n",
       "    </tr>\n",
       "    <tr>\n",
       "      <th>136404</th>\n",
       "      <td>0x24C9300567A882456A355E68B2980753</td>\n",
       "      <td>5</td>\n",
       "      <td>1</td>\n",
       "      <td>2001</td>\n",
       "      <td>CO</td>\n",
       "      <td>P</td>\n",
       "      <td>2001-03-06 00:00:00</td>\n",
       "      <td>S</td>\n",
       "      <td>F</td>\n",
       "      <td>25/10/1979 00:00</td>\n",
       "      <td>...</td>\n",
       "      <td>1</td>\n",
       "      <td>5.0</td>\n",
       "      <td>2002-05-08 00:00:00</td>\n",
       "      <td>5.0</td>\n",
       "      <td>2002-06-19 00:00:00</td>\n",
       "      <td>10.0</td>\n",
       "      <td>2005-12-05 15:44:00</td>\n",
       "      <td>NaN</td>\n",
       "      <td>NaN</td>\n",
       "      <td>3</td>\n",
       "    </tr>\n",
       "  </tbody>\n",
       "</table>\n",
       "<p>136405 rows × 25 columns</p>\n",
       "</div>"
      ],
      "text/plain": [
       "                                 Id_Alumno  Id_Carrera  Semestre_Ingreso  \\\n",
       "0       0x12DA11908B130262F20F714810A49680           6                 2   \n",
       "1       0x12DA11908B130262F20F714810A49680           6                 2   \n",
       "2       0x12DA11908B130262F20F714810A49680           6                 2   \n",
       "3       0x12DA11908B130262F20F714810A49680           6                 2   \n",
       "4       0xFCDE4E2EACC469337D296ECE6B5083C6          17                 1   \n",
       "...                                    ...         ...               ...   \n",
       "136400  0x24C9300567A882456A355E68B2980753           5                 1   \n",
       "136401  0x24C9300567A882456A355E68B2980753           5                 1   \n",
       "136402  0x24C9300567A882456A355E68B2980753           5                 1   \n",
       "136403  0x24C9300567A882456A355E68B2980753           5                 1   \n",
       "136404  0x24C9300567A882456A355E68B2980753           5                 1   \n",
       "\n",
       "        Año_Ingreso Id_Ctro_Ext Id_Modalidad_x        Fecha_Ingreso Activo  \\\n",
       "0              2010          CO              P  2010-07-30 00:00:00      S   \n",
       "1              2010          CO              P  2010-07-30 00:00:00      S   \n",
       "2              2010          CO              P  2010-07-30 00:00:00      S   \n",
       "3              2010          CO              P  2010-07-30 00:00:00      S   \n",
       "4              2006          CO              P  2006-02-24 00:00:00      S   \n",
       "...             ...         ...            ...                  ...    ...   \n",
       "136400         2001          CO              P  2001-03-06 00:00:00      S   \n",
       "136401         2001          CO              P  2001-03-06 00:00:00      S   \n",
       "136402         2001          CO              P  2001-03-06 00:00:00      S   \n",
       "136403         2001          CO              P  2001-03-06 00:00:00      S   \n",
       "136404         2001          CO              P  2001-03-06 00:00:00      S   \n",
       "\n",
       "       Sexo         Fecha_Nac  ...  Id_Comision  Nota_1p             Fecha_1p  \\\n",
       "0         M    3/3/1991 00:00  ...            7     11.0  2010-10-07 00:00:00   \n",
       "1         M    3/3/1991 00:00  ...            7      5.0  2010-09-29 00:00:00   \n",
       "2         M    3/3/1991 00:00  ...            7      7.0  2010-10-07 00:00:00   \n",
       "3         M    3/3/1991 00:00  ...            7      1.0  2010-09-28 00:00:00   \n",
       "4         M  20/11/1954 00:00  ...            7      7.0  2008-09-09 00:00:00   \n",
       "...     ...               ...  ...          ...      ...                  ...   \n",
       "136400    F  25/10/1979 00:00  ...            1     11.0  2003-09-29 00:00:00   \n",
       "136401    F  25/10/1979 00:00  ...            7     10.0  2003-05-05 00:00:00   \n",
       "136402    F  25/10/1979 00:00  ...            7      6.0  2003-10-06 00:00:00   \n",
       "136403    F  25/10/1979 00:00  ...            1      7.0  2001-05-03 00:00:00   \n",
       "136404    F  25/10/1979 00:00  ...            1      5.0  2002-05-08 00:00:00   \n",
       "\n",
       "       Nota_2p             Fecha_2p  Nota_TP             Fecha_TP Nota_Recup  \\\n",
       "0         11.0  2010-11-10 00:00:00      5.0  2010-10-29 00:00:00       11.0   \n",
       "1         11.0  2010-11-16 00:00:00      6.0  2010-11-15 00:00:00       11.0   \n",
       "2          5.0  2010-11-04 00:00:00      3.0  2010-11-18 00:00:00        NaN   \n",
       "3          6.0  2010-11-02 00:00:00      6.0  2010-11-16 00:00:00        3.0   \n",
       "4          NaN                  NaN      9.0  2008-10-08 00:00:00        NaN   \n",
       "...        ...                  ...      ...                  ...        ...   \n",
       "136400     8.0  2003-11-17 00:00:00     10.0  2005-12-05 15:44:00        2.0   \n",
       "136401     2.0  2003-06-25 00:00:00     10.0  2005-12-05 15:44:00        2.0   \n",
       "136402     4.0  2003-11-17 00:00:00     10.0  2005-12-05 15:44:00        8.0   \n",
       "136403     7.0  2001-06-26 00:00:00     10.0  2005-12-05 15:44:00        NaN   \n",
       "136404     5.0  2002-06-19 00:00:00     10.0  2005-12-05 15:44:00        NaN   \n",
       "\n",
       "                Fecha_Recup Cuatrimestre  \n",
       "0       2010-11-16 00:00:00            1  \n",
       "1       2010-11-26 00:00:00            1  \n",
       "2                       NaN            1  \n",
       "3       2010-11-16 00:00:00            1  \n",
       "4                       NaN            2  \n",
       "...                     ...          ...  \n",
       "136400  2003-11-24 00:00:00            6  \n",
       "136401  2003-06-30 00:00:00            4  \n",
       "136402  2003-11-26 00:00:00            4  \n",
       "136403                  NaN            1  \n",
       "136404                  NaN            3  \n",
       "\n",
       "[136405 rows x 25 columns]"
      ]
     },
     "execution_count": 24,
     "metadata": {},
     "output_type": "execute_result"
    }
   ],
   "source": [
    "df_alu_carrera_Alu_Materia = pd.DataFrame()\n",
    "df_alu_carrera_Alu_Materia = pd.merge(df_alu_carrera, df_Alu_Materia[['Id_Alumno','Id_Materia', 'Semestre', 'Año',\n",
    "       'Fecha_Inscrip','Id_Modalidad', 'Id_Comision', 'Nota_1p',\n",
    "       'Fecha_1p', 'Nota_2p', 'Fecha_2p', 'Nota_TP', 'Fecha_TP', 'Nota_Recup',\n",
    "       'Fecha_Recup', 'Cuatrimestre']], on = 'Id_Alumno')\n",
    "df_alu_carrera_Alu_Materia"
   ]
  },
  {
   "cell_type": "code",
   "execution_count": null,
   "id": "1097d916",
   "metadata": {},
   "outputs": [],
   "source": []
  },
  {
   "cell_type": "code",
   "execution_count": 15,
   "id": "a3c38966",
   "metadata": {},
   "outputs": [
    {
     "data": {
      "text/html": [
       "<div>\n",
       "<style scoped>\n",
       "    .dataframe tbody tr th:only-of-type {\n",
       "        vertical-align: middle;\n",
       "    }\n",
       "\n",
       "    .dataframe tbody tr th {\n",
       "        vertical-align: top;\n",
       "    }\n",
       "\n",
       "    .dataframe thead th {\n",
       "        text-align: right;\n",
       "    }\n",
       "</style>\n",
       "<table border=\"1\" class=\"dataframe\">\n",
       "  <thead>\n",
       "    <tr style=\"text-align: right;\">\n",
       "      <th></th>\n",
       "      <th>Id_Alumno</th>\n",
       "      <th>Semestre_Ingreso</th>\n",
       "      <th>Año_Ingreso</th>\n",
       "      <th>Id_Ctro_Ext</th>\n",
       "      <th>Id_Modalidad</th>\n",
       "      <th>Fecha_Ingreso</th>\n",
       "      <th>Activo</th>\n",
       "      <th>Sexo</th>\n",
       "      <th>Fecha_Nac</th>\n",
       "    </tr>\n",
       "    <tr>\n",
       "      <th>Id_Carrera</th>\n",
       "      <th></th>\n",
       "      <th></th>\n",
       "      <th></th>\n",
       "      <th></th>\n",
       "      <th></th>\n",
       "      <th></th>\n",
       "      <th></th>\n",
       "      <th></th>\n",
       "      <th></th>\n",
       "    </tr>\n",
       "  </thead>\n",
       "  <tbody>\n",
       "    <tr>\n",
       "      <th>1</th>\n",
       "      <td>582</td>\n",
       "      <td>582</td>\n",
       "      <td>582</td>\n",
       "      <td>582</td>\n",
       "      <td>582</td>\n",
       "      <td>582</td>\n",
       "      <td>582</td>\n",
       "      <td>582</td>\n",
       "      <td>582</td>\n",
       "    </tr>\n",
       "    <tr>\n",
       "      <th>2</th>\n",
       "      <td>641</td>\n",
       "      <td>641</td>\n",
       "      <td>641</td>\n",
       "      <td>641</td>\n",
       "      <td>641</td>\n",
       "      <td>641</td>\n",
       "      <td>641</td>\n",
       "      <td>641</td>\n",
       "      <td>641</td>\n",
       "    </tr>\n",
       "    <tr>\n",
       "      <th>3</th>\n",
       "      <td>506</td>\n",
       "      <td>506</td>\n",
       "      <td>506</td>\n",
       "      <td>506</td>\n",
       "      <td>506</td>\n",
       "      <td>506</td>\n",
       "      <td>506</td>\n",
       "      <td>506</td>\n",
       "      <td>506</td>\n",
       "    </tr>\n",
       "    <tr>\n",
       "      <th>4</th>\n",
       "      <td>616</td>\n",
       "      <td>616</td>\n",
       "      <td>616</td>\n",
       "      <td>616</td>\n",
       "      <td>616</td>\n",
       "      <td>616</td>\n",
       "      <td>616</td>\n",
       "      <td>616</td>\n",
       "      <td>616</td>\n",
       "    </tr>\n",
       "    <tr>\n",
       "      <th>5</th>\n",
       "      <td>963</td>\n",
       "      <td>963</td>\n",
       "      <td>963</td>\n",
       "      <td>963</td>\n",
       "      <td>963</td>\n",
       "      <td>963</td>\n",
       "      <td>963</td>\n",
       "      <td>963</td>\n",
       "      <td>963</td>\n",
       "    </tr>\n",
       "    <tr>\n",
       "      <th>6</th>\n",
       "      <td>687</td>\n",
       "      <td>687</td>\n",
       "      <td>687</td>\n",
       "      <td>687</td>\n",
       "      <td>687</td>\n",
       "      <td>687</td>\n",
       "      <td>687</td>\n",
       "      <td>687</td>\n",
       "      <td>687</td>\n",
       "    </tr>\n",
       "    <tr>\n",
       "      <th>7</th>\n",
       "      <td>676</td>\n",
       "      <td>676</td>\n",
       "      <td>676</td>\n",
       "      <td>676</td>\n",
       "      <td>676</td>\n",
       "      <td>676</td>\n",
       "      <td>676</td>\n",
       "      <td>676</td>\n",
       "      <td>676</td>\n",
       "    </tr>\n",
       "    <tr>\n",
       "      <th>8</th>\n",
       "      <td>204</td>\n",
       "      <td>204</td>\n",
       "      <td>204</td>\n",
       "      <td>204</td>\n",
       "      <td>204</td>\n",
       "      <td>204</td>\n",
       "      <td>204</td>\n",
       "      <td>204</td>\n",
       "      <td>204</td>\n",
       "    </tr>\n",
       "    <tr>\n",
       "      <th>9</th>\n",
       "      <td>494</td>\n",
       "      <td>494</td>\n",
       "      <td>494</td>\n",
       "      <td>494</td>\n",
       "      <td>494</td>\n",
       "      <td>494</td>\n",
       "      <td>494</td>\n",
       "      <td>494</td>\n",
       "      <td>494</td>\n",
       "    </tr>\n",
       "    <tr>\n",
       "      <th>10</th>\n",
       "      <td>270</td>\n",
       "      <td>270</td>\n",
       "      <td>270</td>\n",
       "      <td>270</td>\n",
       "      <td>270</td>\n",
       "      <td>270</td>\n",
       "      <td>270</td>\n",
       "      <td>270</td>\n",
       "      <td>270</td>\n",
       "    </tr>\n",
       "    <tr>\n",
       "      <th>11</th>\n",
       "      <td>2</td>\n",
       "      <td>2</td>\n",
       "      <td>2</td>\n",
       "      <td>2</td>\n",
       "      <td>2</td>\n",
       "      <td>2</td>\n",
       "      <td>2</td>\n",
       "      <td>2</td>\n",
       "      <td>2</td>\n",
       "    </tr>\n",
       "    <tr>\n",
       "      <th>12</th>\n",
       "      <td>2</td>\n",
       "      <td>2</td>\n",
       "      <td>2</td>\n",
       "      <td>2</td>\n",
       "      <td>2</td>\n",
       "      <td>2</td>\n",
       "      <td>2</td>\n",
       "      <td>2</td>\n",
       "      <td>2</td>\n",
       "    </tr>\n",
       "    <tr>\n",
       "      <th>13</th>\n",
       "      <td>334</td>\n",
       "      <td>334</td>\n",
       "      <td>334</td>\n",
       "      <td>334</td>\n",
       "      <td>334</td>\n",
       "      <td>334</td>\n",
       "      <td>334</td>\n",
       "      <td>334</td>\n",
       "      <td>334</td>\n",
       "    </tr>\n",
       "    <tr>\n",
       "      <th>14</th>\n",
       "      <td>57</td>\n",
       "      <td>57</td>\n",
       "      <td>57</td>\n",
       "      <td>57</td>\n",
       "      <td>57</td>\n",
       "      <td>57</td>\n",
       "      <td>57</td>\n",
       "      <td>57</td>\n",
       "      <td>57</td>\n",
       "    </tr>\n",
       "    <tr>\n",
       "      <th>16</th>\n",
       "      <td>14</td>\n",
       "      <td>14</td>\n",
       "      <td>14</td>\n",
       "      <td>14</td>\n",
       "      <td>14</td>\n",
       "      <td>14</td>\n",
       "      <td>14</td>\n",
       "      <td>14</td>\n",
       "      <td>14</td>\n",
       "    </tr>\n",
       "    <tr>\n",
       "      <th>17</th>\n",
       "      <td>127</td>\n",
       "      <td>127</td>\n",
       "      <td>127</td>\n",
       "      <td>127</td>\n",
       "      <td>127</td>\n",
       "      <td>127</td>\n",
       "      <td>127</td>\n",
       "      <td>127</td>\n",
       "      <td>127</td>\n",
       "    </tr>\n",
       "    <tr>\n",
       "      <th>18</th>\n",
       "      <td>3</td>\n",
       "      <td>3</td>\n",
       "      <td>3</td>\n",
       "      <td>3</td>\n",
       "      <td>3</td>\n",
       "      <td>3</td>\n",
       "      <td>3</td>\n",
       "      <td>3</td>\n",
       "      <td>3</td>\n",
       "    </tr>\n",
       "    <tr>\n",
       "      <th>39</th>\n",
       "      <td>8</td>\n",
       "      <td>8</td>\n",
       "      <td>8</td>\n",
       "      <td>8</td>\n",
       "      <td>8</td>\n",
       "      <td>8</td>\n",
       "      <td>8</td>\n",
       "      <td>8</td>\n",
       "      <td>8</td>\n",
       "    </tr>\n",
       "    <tr>\n",
       "      <th>40</th>\n",
       "      <td>2</td>\n",
       "      <td>2</td>\n",
       "      <td>2</td>\n",
       "      <td>2</td>\n",
       "      <td>2</td>\n",
       "      <td>2</td>\n",
       "      <td>2</td>\n",
       "      <td>2</td>\n",
       "      <td>2</td>\n",
       "    </tr>\n",
       "    <tr>\n",
       "      <th>41</th>\n",
       "      <td>1</td>\n",
       "      <td>1</td>\n",
       "      <td>1</td>\n",
       "      <td>1</td>\n",
       "      <td>1</td>\n",
       "      <td>1</td>\n",
       "      <td>1</td>\n",
       "      <td>1</td>\n",
       "      <td>1</td>\n",
       "    </tr>\n",
       "    <tr>\n",
       "      <th>59</th>\n",
       "      <td>1</td>\n",
       "      <td>1</td>\n",
       "      <td>1</td>\n",
       "      <td>1</td>\n",
       "      <td>1</td>\n",
       "      <td>1</td>\n",
       "      <td>1</td>\n",
       "      <td>1</td>\n",
       "      <td>1</td>\n",
       "    </tr>\n",
       "    <tr>\n",
       "      <th>60</th>\n",
       "      <td>37</td>\n",
       "      <td>37</td>\n",
       "      <td>37</td>\n",
       "      <td>37</td>\n",
       "      <td>37</td>\n",
       "      <td>37</td>\n",
       "      <td>37</td>\n",
       "      <td>37</td>\n",
       "      <td>37</td>\n",
       "    </tr>\n",
       "  </tbody>\n",
       "</table>\n",
       "</div>"
      ],
      "text/plain": [
       "            Id_Alumno  Semestre_Ingreso  Año_Ingreso  Id_Ctro_Ext  \\\n",
       "Id_Carrera                                                          \n",
       "1                 582               582          582          582   \n",
       "2                 641               641          641          641   \n",
       "3                 506               506          506          506   \n",
       "4                 616               616          616          616   \n",
       "5                 963               963          963          963   \n",
       "6                 687               687          687          687   \n",
       "7                 676               676          676          676   \n",
       "8                 204               204          204          204   \n",
       "9                 494               494          494          494   \n",
       "10                270               270          270          270   \n",
       "11                  2                 2            2            2   \n",
       "12                  2                 2            2            2   \n",
       "13                334               334          334          334   \n",
       "14                 57                57           57           57   \n",
       "16                 14                14           14           14   \n",
       "17                127               127          127          127   \n",
       "18                  3                 3            3            3   \n",
       "39                  8                 8            8            8   \n",
       "40                  2                 2            2            2   \n",
       "41                  1                 1            1            1   \n",
       "59                  1                 1            1            1   \n",
       "60                 37                37           37           37   \n",
       "\n",
       "            Id_Modalidad  Fecha_Ingreso  Activo  Sexo  Fecha_Nac  \n",
       "Id_Carrera                                                        \n",
       "1                    582            582     582   582        582  \n",
       "2                    641            641     641   641        641  \n",
       "3                    506            506     506   506        506  \n",
       "4                    616            616     616   616        616  \n",
       "5                    963            963     963   963        963  \n",
       "6                    687            687     687   687        687  \n",
       "7                    676            676     676   676        676  \n",
       "8                    204            204     204   204        204  \n",
       "9                    494            494     494   494        494  \n",
       "10                   270            270     270   270        270  \n",
       "11                     2              2       2     2          2  \n",
       "12                     2              2       2     2          2  \n",
       "13                   334            334     334   334        334  \n",
       "14                    57             57      57    57         57  \n",
       "16                    14             14      14    14         14  \n",
       "17                   127            127     127   127        127  \n",
       "18                     3              3       3     3          3  \n",
       "39                     8              8       8     8          8  \n",
       "40                     2              2       2     2          2  \n",
       "41                     1              1       1     1          1  \n",
       "59                     1              1       1     1          1  \n",
       "60                    37             37      37    37         37  "
      ]
     },
     "execution_count": 15,
     "metadata": {},
     "output_type": "execute_result"
    }
   ],
   "source": [
    "cant_alu_carr_años = df_alu_carrera.groupby(['Id_Carrera']).count()\n",
    "cant_alu_carr_años"
   ]
  },
  {
   "cell_type": "code",
   "execution_count": 29,
   "id": "00c5b83e",
   "metadata": {},
   "outputs": [
    {
     "data": {
      "application/vnd.plotly.v1+json": {
       "config": {
        "plotlyServerURL": "https://plot.ly"
       },
       "data": [
        {
         "domain": {
          "x": [
           0,
           1
          ],
          "y": [
           0,
           1
          ]
         },
         "hovertemplate": "Año_Ingreso=%{label}<br>Id_Alumno=%{value}<extra></extra>",
         "labels": [
          582,
          641,
          506,
          616,
          963,
          687,
          676,
          204,
          494,
          270,
          2,
          2,
          334,
          57,
          14,
          127,
          3,
          8,
          2,
          1,
          1,
          37
         ],
         "legendgroup": "",
         "name": "",
         "showlegend": true,
         "type": "pie",
         "values": [
          582,
          641,
          506,
          616,
          963,
          687,
          676,
          204,
          494,
          270,
          2,
          2,
          334,
          57,
          14,
          127,
          3,
          8,
          2,
          1,
          1,
          37
         ]
        }
       ],
       "layout": {
        "legend": {
         "tracegroupgap": 0
        },
        "template": {
         "data": {
          "bar": [
           {
            "error_x": {
             "color": "#2a3f5f"
            },
            "error_y": {
             "color": "#2a3f5f"
            },
            "marker": {
             "line": {
              "color": "#E5ECF6",
              "width": 0.5
             },
             "pattern": {
              "fillmode": "overlay",
              "size": 10,
              "solidity": 0.2
             }
            },
            "type": "bar"
           }
          ],
          "barpolar": [
           {
            "marker": {
             "line": {
              "color": "#E5ECF6",
              "width": 0.5
             },
             "pattern": {
              "fillmode": "overlay",
              "size": 10,
              "solidity": 0.2
             }
            },
            "type": "barpolar"
           }
          ],
          "carpet": [
           {
            "aaxis": {
             "endlinecolor": "#2a3f5f",
             "gridcolor": "white",
             "linecolor": "white",
             "minorgridcolor": "white",
             "startlinecolor": "#2a3f5f"
            },
            "baxis": {
             "endlinecolor": "#2a3f5f",
             "gridcolor": "white",
             "linecolor": "white",
             "minorgridcolor": "white",
             "startlinecolor": "#2a3f5f"
            },
            "type": "carpet"
           }
          ],
          "choropleth": [
           {
            "colorbar": {
             "outlinewidth": 0,
             "ticks": ""
            },
            "type": "choropleth"
           }
          ],
          "contour": [
           {
            "colorbar": {
             "outlinewidth": 0,
             "ticks": ""
            },
            "colorscale": [
             [
              0,
              "#0d0887"
             ],
             [
              0.1111111111111111,
              "#46039f"
             ],
             [
              0.2222222222222222,
              "#7201a8"
             ],
             [
              0.3333333333333333,
              "#9c179e"
             ],
             [
              0.4444444444444444,
              "#bd3786"
             ],
             [
              0.5555555555555556,
              "#d8576b"
             ],
             [
              0.6666666666666666,
              "#ed7953"
             ],
             [
              0.7777777777777778,
              "#fb9f3a"
             ],
             [
              0.8888888888888888,
              "#fdca26"
             ],
             [
              1,
              "#f0f921"
             ]
            ],
            "type": "contour"
           }
          ],
          "contourcarpet": [
           {
            "colorbar": {
             "outlinewidth": 0,
             "ticks": ""
            },
            "type": "contourcarpet"
           }
          ],
          "heatmap": [
           {
            "colorbar": {
             "outlinewidth": 0,
             "ticks": ""
            },
            "colorscale": [
             [
              0,
              "#0d0887"
             ],
             [
              0.1111111111111111,
              "#46039f"
             ],
             [
              0.2222222222222222,
              "#7201a8"
             ],
             [
              0.3333333333333333,
              "#9c179e"
             ],
             [
              0.4444444444444444,
              "#bd3786"
             ],
             [
              0.5555555555555556,
              "#d8576b"
             ],
             [
              0.6666666666666666,
              "#ed7953"
             ],
             [
              0.7777777777777778,
              "#fb9f3a"
             ],
             [
              0.8888888888888888,
              "#fdca26"
             ],
             [
              1,
              "#f0f921"
             ]
            ],
            "type": "heatmap"
           }
          ],
          "heatmapgl": [
           {
            "colorbar": {
             "outlinewidth": 0,
             "ticks": ""
            },
            "colorscale": [
             [
              0,
              "#0d0887"
             ],
             [
              0.1111111111111111,
              "#46039f"
             ],
             [
              0.2222222222222222,
              "#7201a8"
             ],
             [
              0.3333333333333333,
              "#9c179e"
             ],
             [
              0.4444444444444444,
              "#bd3786"
             ],
             [
              0.5555555555555556,
              "#d8576b"
             ],
             [
              0.6666666666666666,
              "#ed7953"
             ],
             [
              0.7777777777777778,
              "#fb9f3a"
             ],
             [
              0.8888888888888888,
              "#fdca26"
             ],
             [
              1,
              "#f0f921"
             ]
            ],
            "type": "heatmapgl"
           }
          ],
          "histogram": [
           {
            "marker": {
             "pattern": {
              "fillmode": "overlay",
              "size": 10,
              "solidity": 0.2
             }
            },
            "type": "histogram"
           }
          ],
          "histogram2d": [
           {
            "colorbar": {
             "outlinewidth": 0,
             "ticks": ""
            },
            "colorscale": [
             [
              0,
              "#0d0887"
             ],
             [
              0.1111111111111111,
              "#46039f"
             ],
             [
              0.2222222222222222,
              "#7201a8"
             ],
             [
              0.3333333333333333,
              "#9c179e"
             ],
             [
              0.4444444444444444,
              "#bd3786"
             ],
             [
              0.5555555555555556,
              "#d8576b"
             ],
             [
              0.6666666666666666,
              "#ed7953"
             ],
             [
              0.7777777777777778,
              "#fb9f3a"
             ],
             [
              0.8888888888888888,
              "#fdca26"
             ],
             [
              1,
              "#f0f921"
             ]
            ],
            "type": "histogram2d"
           }
          ],
          "histogram2dcontour": [
           {
            "colorbar": {
             "outlinewidth": 0,
             "ticks": ""
            },
            "colorscale": [
             [
              0,
              "#0d0887"
             ],
             [
              0.1111111111111111,
              "#46039f"
             ],
             [
              0.2222222222222222,
              "#7201a8"
             ],
             [
              0.3333333333333333,
              "#9c179e"
             ],
             [
              0.4444444444444444,
              "#bd3786"
             ],
             [
              0.5555555555555556,
              "#d8576b"
             ],
             [
              0.6666666666666666,
              "#ed7953"
             ],
             [
              0.7777777777777778,
              "#fb9f3a"
             ],
             [
              0.8888888888888888,
              "#fdca26"
             ],
             [
              1,
              "#f0f921"
             ]
            ],
            "type": "histogram2dcontour"
           }
          ],
          "mesh3d": [
           {
            "colorbar": {
             "outlinewidth": 0,
             "ticks": ""
            },
            "type": "mesh3d"
           }
          ],
          "parcoords": [
           {
            "line": {
             "colorbar": {
              "outlinewidth": 0,
              "ticks": ""
             }
            },
            "type": "parcoords"
           }
          ],
          "pie": [
           {
            "automargin": true,
            "type": "pie"
           }
          ],
          "scatter": [
           {
            "marker": {
             "colorbar": {
              "outlinewidth": 0,
              "ticks": ""
             }
            },
            "type": "scatter"
           }
          ],
          "scatter3d": [
           {
            "line": {
             "colorbar": {
              "outlinewidth": 0,
              "ticks": ""
             }
            },
            "marker": {
             "colorbar": {
              "outlinewidth": 0,
              "ticks": ""
             }
            },
            "type": "scatter3d"
           }
          ],
          "scattercarpet": [
           {
            "marker": {
             "colorbar": {
              "outlinewidth": 0,
              "ticks": ""
             }
            },
            "type": "scattercarpet"
           }
          ],
          "scattergeo": [
           {
            "marker": {
             "colorbar": {
              "outlinewidth": 0,
              "ticks": ""
             }
            },
            "type": "scattergeo"
           }
          ],
          "scattergl": [
           {
            "marker": {
             "colorbar": {
              "outlinewidth": 0,
              "ticks": ""
             }
            },
            "type": "scattergl"
           }
          ],
          "scattermapbox": [
           {
            "marker": {
             "colorbar": {
              "outlinewidth": 0,
              "ticks": ""
             }
            },
            "type": "scattermapbox"
           }
          ],
          "scatterpolar": [
           {
            "marker": {
             "colorbar": {
              "outlinewidth": 0,
              "ticks": ""
             }
            },
            "type": "scatterpolar"
           }
          ],
          "scatterpolargl": [
           {
            "marker": {
             "colorbar": {
              "outlinewidth": 0,
              "ticks": ""
             }
            },
            "type": "scatterpolargl"
           }
          ],
          "scatterternary": [
           {
            "marker": {
             "colorbar": {
              "outlinewidth": 0,
              "ticks": ""
             }
            },
            "type": "scatterternary"
           }
          ],
          "surface": [
           {
            "colorbar": {
             "outlinewidth": 0,
             "ticks": ""
            },
            "colorscale": [
             [
              0,
              "#0d0887"
             ],
             [
              0.1111111111111111,
              "#46039f"
             ],
             [
              0.2222222222222222,
              "#7201a8"
             ],
             [
              0.3333333333333333,
              "#9c179e"
             ],
             [
              0.4444444444444444,
              "#bd3786"
             ],
             [
              0.5555555555555556,
              "#d8576b"
             ],
             [
              0.6666666666666666,
              "#ed7953"
             ],
             [
              0.7777777777777778,
              "#fb9f3a"
             ],
             [
              0.8888888888888888,
              "#fdca26"
             ],
             [
              1,
              "#f0f921"
             ]
            ],
            "type": "surface"
           }
          ],
          "table": [
           {
            "cells": {
             "fill": {
              "color": "#EBF0F8"
             },
             "line": {
              "color": "white"
             }
            },
            "header": {
             "fill": {
              "color": "#C8D4E3"
             },
             "line": {
              "color": "white"
             }
            },
            "type": "table"
           }
          ]
         },
         "layout": {
          "annotationdefaults": {
           "arrowcolor": "#2a3f5f",
           "arrowhead": 0,
           "arrowwidth": 1
          },
          "autotypenumbers": "strict",
          "coloraxis": {
           "colorbar": {
            "outlinewidth": 0,
            "ticks": ""
           }
          },
          "colorscale": {
           "diverging": [
            [
             0,
             "#8e0152"
            ],
            [
             0.1,
             "#c51b7d"
            ],
            [
             0.2,
             "#de77ae"
            ],
            [
             0.3,
             "#f1b6da"
            ],
            [
             0.4,
             "#fde0ef"
            ],
            [
             0.5,
             "#f7f7f7"
            ],
            [
             0.6,
             "#e6f5d0"
            ],
            [
             0.7,
             "#b8e186"
            ],
            [
             0.8,
             "#7fbc41"
            ],
            [
             0.9,
             "#4d9221"
            ],
            [
             1,
             "#276419"
            ]
           ],
           "sequential": [
            [
             0,
             "#0d0887"
            ],
            [
             0.1111111111111111,
             "#46039f"
            ],
            [
             0.2222222222222222,
             "#7201a8"
            ],
            [
             0.3333333333333333,
             "#9c179e"
            ],
            [
             0.4444444444444444,
             "#bd3786"
            ],
            [
             0.5555555555555556,
             "#d8576b"
            ],
            [
             0.6666666666666666,
             "#ed7953"
            ],
            [
             0.7777777777777778,
             "#fb9f3a"
            ],
            [
             0.8888888888888888,
             "#fdca26"
            ],
            [
             1,
             "#f0f921"
            ]
           ],
           "sequentialminus": [
            [
             0,
             "#0d0887"
            ],
            [
             0.1111111111111111,
             "#46039f"
            ],
            [
             0.2222222222222222,
             "#7201a8"
            ],
            [
             0.3333333333333333,
             "#9c179e"
            ],
            [
             0.4444444444444444,
             "#bd3786"
            ],
            [
             0.5555555555555556,
             "#d8576b"
            ],
            [
             0.6666666666666666,
             "#ed7953"
            ],
            [
             0.7777777777777778,
             "#fb9f3a"
            ],
            [
             0.8888888888888888,
             "#fdca26"
            ],
            [
             1,
             "#f0f921"
            ]
           ]
          },
          "colorway": [
           "#636efa",
           "#EF553B",
           "#00cc96",
           "#ab63fa",
           "#FFA15A",
           "#19d3f3",
           "#FF6692",
           "#B6E880",
           "#FF97FF",
           "#FECB52"
          ],
          "font": {
           "color": "#2a3f5f"
          },
          "geo": {
           "bgcolor": "white",
           "lakecolor": "white",
           "landcolor": "#E5ECF6",
           "showlakes": true,
           "showland": true,
           "subunitcolor": "white"
          },
          "hoverlabel": {
           "align": "left"
          },
          "hovermode": "closest",
          "mapbox": {
           "style": "light"
          },
          "paper_bgcolor": "white",
          "plot_bgcolor": "#E5ECF6",
          "polar": {
           "angularaxis": {
            "gridcolor": "white",
            "linecolor": "white",
            "ticks": ""
           },
           "bgcolor": "#E5ECF6",
           "radialaxis": {
            "gridcolor": "white",
            "linecolor": "white",
            "ticks": ""
           }
          },
          "scene": {
           "xaxis": {
            "backgroundcolor": "#E5ECF6",
            "gridcolor": "white",
            "gridwidth": 2,
            "linecolor": "white",
            "showbackground": true,
            "ticks": "",
            "zerolinecolor": "white"
           },
           "yaxis": {
            "backgroundcolor": "#E5ECF6",
            "gridcolor": "white",
            "gridwidth": 2,
            "linecolor": "white",
            "showbackground": true,
            "ticks": "",
            "zerolinecolor": "white"
           },
           "zaxis": {
            "backgroundcolor": "#E5ECF6",
            "gridcolor": "white",
            "gridwidth": 2,
            "linecolor": "white",
            "showbackground": true,
            "ticks": "",
            "zerolinecolor": "white"
           }
          },
          "shapedefaults": {
           "line": {
            "color": "#2a3f5f"
           }
          },
          "ternary": {
           "aaxis": {
            "gridcolor": "white",
            "linecolor": "white",
            "ticks": ""
           },
           "baxis": {
            "gridcolor": "white",
            "linecolor": "white",
            "ticks": ""
           },
           "bgcolor": "#E5ECF6",
           "caxis": {
            "gridcolor": "white",
            "linecolor": "white",
            "ticks": ""
           }
          },
          "title": {
           "x": 0.05
          },
          "xaxis": {
           "automargin": true,
           "gridcolor": "white",
           "linecolor": "white",
           "ticks": "",
           "title": {
            "standoff": 15
           },
           "zerolinecolor": "white",
           "zerolinewidth": 2
          },
          "yaxis": {
           "automargin": true,
           "gridcolor": "white",
           "linecolor": "white",
           "ticks": "",
           "title": {
            "standoff": 15
           },
           "zerolinecolor": "white",
           "zerolinewidth": 2
          }
         }
        },
        "title": {
         "text": "Porcentaje de incripcion de alumnos por carrera en historial de BD"
        }
       }
      },
      "text/html": [
       "<div>                            <div id=\"6d7cf5c4-9231-40a6-8f90-3dd98cc4984c\" class=\"plotly-graph-div\" style=\"height:525px; width:100%;\"></div>            <script type=\"text/javascript\">                require([\"plotly\"], function(Plotly) {                    window.PLOTLYENV=window.PLOTLYENV || {};                                    if (document.getElementById(\"6d7cf5c4-9231-40a6-8f90-3dd98cc4984c\")) {                    Plotly.newPlot(                        \"6d7cf5c4-9231-40a6-8f90-3dd98cc4984c\",                        [{\"domain\":{\"x\":[0.0,1.0],\"y\":[0.0,1.0]},\"hovertemplate\":\"A\\u00f1o_Ingreso=%{label}<br>Id_Alumno=%{value}<extra></extra>\",\"labels\":[582,641,506,616,963,687,676,204,494,270,2,2,334,57,14,127,3,8,2,1,1,37],\"legendgroup\":\"\",\"name\":\"\",\"showlegend\":true,\"type\":\"pie\",\"values\":[582,641,506,616,963,687,676,204,494,270,2,2,334,57,14,127,3,8,2,1,1,37]}],                        {\"legend\":{\"tracegroupgap\":0},\"template\":{\"data\":{\"bar\":[{\"error_x\":{\"color\":\"#2a3f5f\"},\"error_y\":{\"color\":\"#2a3f5f\"},\"marker\":{\"line\":{\"color\":\"#E5ECF6\",\"width\":0.5},\"pattern\":{\"fillmode\":\"overlay\",\"size\":10,\"solidity\":0.2}},\"type\":\"bar\"}],\"barpolar\":[{\"marker\":{\"line\":{\"color\":\"#E5ECF6\",\"width\":0.5},\"pattern\":{\"fillmode\":\"overlay\",\"size\":10,\"solidity\":0.2}},\"type\":\"barpolar\"}],\"carpet\":[{\"aaxis\":{\"endlinecolor\":\"#2a3f5f\",\"gridcolor\":\"white\",\"linecolor\":\"white\",\"minorgridcolor\":\"white\",\"startlinecolor\":\"#2a3f5f\"},\"baxis\":{\"endlinecolor\":\"#2a3f5f\",\"gridcolor\":\"white\",\"linecolor\":\"white\",\"minorgridcolor\":\"white\",\"startlinecolor\":\"#2a3f5f\"},\"type\":\"carpet\"}],\"choropleth\":[{\"colorbar\":{\"outlinewidth\":0,\"ticks\":\"\"},\"type\":\"choropleth\"}],\"contour\":[{\"colorbar\":{\"outlinewidth\":0,\"ticks\":\"\"},\"colorscale\":[[0.0,\"#0d0887\"],[0.1111111111111111,\"#46039f\"],[0.2222222222222222,\"#7201a8\"],[0.3333333333333333,\"#9c179e\"],[0.4444444444444444,\"#bd3786\"],[0.5555555555555556,\"#d8576b\"],[0.6666666666666666,\"#ed7953\"],[0.7777777777777778,\"#fb9f3a\"],[0.8888888888888888,\"#fdca26\"],[1.0,\"#f0f921\"]],\"type\":\"contour\"}],\"contourcarpet\":[{\"colorbar\":{\"outlinewidth\":0,\"ticks\":\"\"},\"type\":\"contourcarpet\"}],\"heatmap\":[{\"colorbar\":{\"outlinewidth\":0,\"ticks\":\"\"},\"colorscale\":[[0.0,\"#0d0887\"],[0.1111111111111111,\"#46039f\"],[0.2222222222222222,\"#7201a8\"],[0.3333333333333333,\"#9c179e\"],[0.4444444444444444,\"#bd3786\"],[0.5555555555555556,\"#d8576b\"],[0.6666666666666666,\"#ed7953\"],[0.7777777777777778,\"#fb9f3a\"],[0.8888888888888888,\"#fdca26\"],[1.0,\"#f0f921\"]],\"type\":\"heatmap\"}],\"heatmapgl\":[{\"colorbar\":{\"outlinewidth\":0,\"ticks\":\"\"},\"colorscale\":[[0.0,\"#0d0887\"],[0.1111111111111111,\"#46039f\"],[0.2222222222222222,\"#7201a8\"],[0.3333333333333333,\"#9c179e\"],[0.4444444444444444,\"#bd3786\"],[0.5555555555555556,\"#d8576b\"],[0.6666666666666666,\"#ed7953\"],[0.7777777777777778,\"#fb9f3a\"],[0.8888888888888888,\"#fdca26\"],[1.0,\"#f0f921\"]],\"type\":\"heatmapgl\"}],\"histogram\":[{\"marker\":{\"pattern\":{\"fillmode\":\"overlay\",\"size\":10,\"solidity\":0.2}},\"type\":\"histogram\"}],\"histogram2d\":[{\"colorbar\":{\"outlinewidth\":0,\"ticks\":\"\"},\"colorscale\":[[0.0,\"#0d0887\"],[0.1111111111111111,\"#46039f\"],[0.2222222222222222,\"#7201a8\"],[0.3333333333333333,\"#9c179e\"],[0.4444444444444444,\"#bd3786\"],[0.5555555555555556,\"#d8576b\"],[0.6666666666666666,\"#ed7953\"],[0.7777777777777778,\"#fb9f3a\"],[0.8888888888888888,\"#fdca26\"],[1.0,\"#f0f921\"]],\"type\":\"histogram2d\"}],\"histogram2dcontour\":[{\"colorbar\":{\"outlinewidth\":0,\"ticks\":\"\"},\"colorscale\":[[0.0,\"#0d0887\"],[0.1111111111111111,\"#46039f\"],[0.2222222222222222,\"#7201a8\"],[0.3333333333333333,\"#9c179e\"],[0.4444444444444444,\"#bd3786\"],[0.5555555555555556,\"#d8576b\"],[0.6666666666666666,\"#ed7953\"],[0.7777777777777778,\"#fb9f3a\"],[0.8888888888888888,\"#fdca26\"],[1.0,\"#f0f921\"]],\"type\":\"histogram2dcontour\"}],\"mesh3d\":[{\"colorbar\":{\"outlinewidth\":0,\"ticks\":\"\"},\"type\":\"mesh3d\"}],\"parcoords\":[{\"line\":{\"colorbar\":{\"outlinewidth\":0,\"ticks\":\"\"}},\"type\":\"parcoords\"}],\"pie\":[{\"automargin\":true,\"type\":\"pie\"}],\"scatter\":[{\"marker\":{\"colorbar\":{\"outlinewidth\":0,\"ticks\":\"\"}},\"type\":\"scatter\"}],\"scatter3d\":[{\"line\":{\"colorbar\":{\"outlinewidth\":0,\"ticks\":\"\"}},\"marker\":{\"colorbar\":{\"outlinewidth\":0,\"ticks\":\"\"}},\"type\":\"scatter3d\"}],\"scattercarpet\":[{\"marker\":{\"colorbar\":{\"outlinewidth\":0,\"ticks\":\"\"}},\"type\":\"scattercarpet\"}],\"scattergeo\":[{\"marker\":{\"colorbar\":{\"outlinewidth\":0,\"ticks\":\"\"}},\"type\":\"scattergeo\"}],\"scattergl\":[{\"marker\":{\"colorbar\":{\"outlinewidth\":0,\"ticks\":\"\"}},\"type\":\"scattergl\"}],\"scattermapbox\":[{\"marker\":{\"colorbar\":{\"outlinewidth\":0,\"ticks\":\"\"}},\"type\":\"scattermapbox\"}],\"scatterpolar\":[{\"marker\":{\"colorbar\":{\"outlinewidth\":0,\"ticks\":\"\"}},\"type\":\"scatterpolar\"}],\"scatterpolargl\":[{\"marker\":{\"colorbar\":{\"outlinewidth\":0,\"ticks\":\"\"}},\"type\":\"scatterpolargl\"}],\"scatterternary\":[{\"marker\":{\"colorbar\":{\"outlinewidth\":0,\"ticks\":\"\"}},\"type\":\"scatterternary\"}],\"surface\":[{\"colorbar\":{\"outlinewidth\":0,\"ticks\":\"\"},\"colorscale\":[[0.0,\"#0d0887\"],[0.1111111111111111,\"#46039f\"],[0.2222222222222222,\"#7201a8\"],[0.3333333333333333,\"#9c179e\"],[0.4444444444444444,\"#bd3786\"],[0.5555555555555556,\"#d8576b\"],[0.6666666666666666,\"#ed7953\"],[0.7777777777777778,\"#fb9f3a\"],[0.8888888888888888,\"#fdca26\"],[1.0,\"#f0f921\"]],\"type\":\"surface\"}],\"table\":[{\"cells\":{\"fill\":{\"color\":\"#EBF0F8\"},\"line\":{\"color\":\"white\"}},\"header\":{\"fill\":{\"color\":\"#C8D4E3\"},\"line\":{\"color\":\"white\"}},\"type\":\"table\"}]},\"layout\":{\"annotationdefaults\":{\"arrowcolor\":\"#2a3f5f\",\"arrowhead\":0,\"arrowwidth\":1},\"autotypenumbers\":\"strict\",\"coloraxis\":{\"colorbar\":{\"outlinewidth\":0,\"ticks\":\"\"}},\"colorscale\":{\"diverging\":[[0,\"#8e0152\"],[0.1,\"#c51b7d\"],[0.2,\"#de77ae\"],[0.3,\"#f1b6da\"],[0.4,\"#fde0ef\"],[0.5,\"#f7f7f7\"],[0.6,\"#e6f5d0\"],[0.7,\"#b8e186\"],[0.8,\"#7fbc41\"],[0.9,\"#4d9221\"],[1,\"#276419\"]],\"sequential\":[[0.0,\"#0d0887\"],[0.1111111111111111,\"#46039f\"],[0.2222222222222222,\"#7201a8\"],[0.3333333333333333,\"#9c179e\"],[0.4444444444444444,\"#bd3786\"],[0.5555555555555556,\"#d8576b\"],[0.6666666666666666,\"#ed7953\"],[0.7777777777777778,\"#fb9f3a\"],[0.8888888888888888,\"#fdca26\"],[1.0,\"#f0f921\"]],\"sequentialminus\":[[0.0,\"#0d0887\"],[0.1111111111111111,\"#46039f\"],[0.2222222222222222,\"#7201a8\"],[0.3333333333333333,\"#9c179e\"],[0.4444444444444444,\"#bd3786\"],[0.5555555555555556,\"#d8576b\"],[0.6666666666666666,\"#ed7953\"],[0.7777777777777778,\"#fb9f3a\"],[0.8888888888888888,\"#fdca26\"],[1.0,\"#f0f921\"]]},\"colorway\":[\"#636efa\",\"#EF553B\",\"#00cc96\",\"#ab63fa\",\"#FFA15A\",\"#19d3f3\",\"#FF6692\",\"#B6E880\",\"#FF97FF\",\"#FECB52\"],\"font\":{\"color\":\"#2a3f5f\"},\"geo\":{\"bgcolor\":\"white\",\"lakecolor\":\"white\",\"landcolor\":\"#E5ECF6\",\"showlakes\":true,\"showland\":true,\"subunitcolor\":\"white\"},\"hoverlabel\":{\"align\":\"left\"},\"hovermode\":\"closest\",\"mapbox\":{\"style\":\"light\"},\"paper_bgcolor\":\"white\",\"plot_bgcolor\":\"#E5ECF6\",\"polar\":{\"angularaxis\":{\"gridcolor\":\"white\",\"linecolor\":\"white\",\"ticks\":\"\"},\"bgcolor\":\"#E5ECF6\",\"radialaxis\":{\"gridcolor\":\"white\",\"linecolor\":\"white\",\"ticks\":\"\"}},\"scene\":{\"xaxis\":{\"backgroundcolor\":\"#E5ECF6\",\"gridcolor\":\"white\",\"gridwidth\":2,\"linecolor\":\"white\",\"showbackground\":true,\"ticks\":\"\",\"zerolinecolor\":\"white\"},\"yaxis\":{\"backgroundcolor\":\"#E5ECF6\",\"gridcolor\":\"white\",\"gridwidth\":2,\"linecolor\":\"white\",\"showbackground\":true,\"ticks\":\"\",\"zerolinecolor\":\"white\"},\"zaxis\":{\"backgroundcolor\":\"#E5ECF6\",\"gridcolor\":\"white\",\"gridwidth\":2,\"linecolor\":\"white\",\"showbackground\":true,\"ticks\":\"\",\"zerolinecolor\":\"white\"}},\"shapedefaults\":{\"line\":{\"color\":\"#2a3f5f\"}},\"ternary\":{\"aaxis\":{\"gridcolor\":\"white\",\"linecolor\":\"white\",\"ticks\":\"\"},\"baxis\":{\"gridcolor\":\"white\",\"linecolor\":\"white\",\"ticks\":\"\"},\"bgcolor\":\"#E5ECF6\",\"caxis\":{\"gridcolor\":\"white\",\"linecolor\":\"white\",\"ticks\":\"\"}},\"title\":{\"x\":0.05},\"xaxis\":{\"automargin\":true,\"gridcolor\":\"white\",\"linecolor\":\"white\",\"ticks\":\"\",\"title\":{\"standoff\":15},\"zerolinecolor\":\"white\",\"zerolinewidth\":2},\"yaxis\":{\"automargin\":true,\"gridcolor\":\"white\",\"linecolor\":\"white\",\"ticks\":\"\",\"title\":{\"standoff\":15},\"zerolinecolor\":\"white\",\"zerolinewidth\":2}}},\"title\":{\"text\":\"Porcentaje de incripcion de alumnos por carrera en historial de BD\"}},                        {\"responsive\": true}                    ).then(function(){\n",
       "                            \n",
       "var gd = document.getElementById('6d7cf5c4-9231-40a6-8f90-3dd98cc4984c');\n",
       "var x = new MutationObserver(function (mutations, observer) {{\n",
       "        var display = window.getComputedStyle(gd).display;\n",
       "        if (!display || display === 'none') {{\n",
       "            console.log([gd, 'removed!']);\n",
       "            Plotly.purge(gd);\n",
       "            observer.disconnect();\n",
       "        }}\n",
       "}});\n",
       "\n",
       "// Listen for the removal of the full notebook cells\n",
       "var notebookContainer = gd.closest('#notebook-container');\n",
       "if (notebookContainer) {{\n",
       "    x.observe(notebookContainer, {childList: true});\n",
       "}}\n",
       "\n",
       "// Listen for the clearing of the current output cell\n",
       "var outputEl = gd.closest('.output');\n",
       "if (outputEl) {{\n",
       "    x.observe(outputEl, {childList: true});\n",
       "}}\n",
       "\n",
       "                        })                };                });            </script>        </div>"
      ]
     },
     "metadata": {},
     "output_type": "display_data"
    }
   ],
   "source": [
    "fig = px.pie(cant_alu_carr_años, values='Id_Alumno', names='Año_Ingreso', title='Porcentaje de incripcion de alumnos por carrera en historial de BD')\n",
    "fig.show()"
   ]
  },
  {
   "cell_type": "code",
   "execution_count": null,
   "id": "d1180af1",
   "metadata": {},
   "outputs": [],
   "source": []
  }
 ],
 "metadata": {
  "kernelspec": {
   "display_name": "Python 3",
   "language": "python",
   "name": "python3"
  },
  "language_info": {
   "codemirror_mode": {
    "name": "ipython",
    "version": 3
   },
   "file_extension": ".py",
   "mimetype": "text/x-python",
   "name": "python",
   "nbconvert_exporter": "python",
   "pygments_lexer": "ipython3",
   "version": "3.8.8"
  }
 },
 "nbformat": 4,
 "nbformat_minor": 5
}
